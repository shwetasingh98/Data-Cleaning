{
 "cells": [
  {
   "cell_type": "markdown",
   "id": "a391e6e2",
   "metadata": {
    "papermill": {
     "duration": 0.007328,
     "end_time": "2022-10-14T08:00:27.451227",
     "exception": false,
     "start_time": "2022-10-14T08:00:27.443899",
     "status": "completed"
    },
    "tags": []
   },
   "source": [
    "**This notebook is an exercise in the [Data Cleaning](https://www.kaggle.com/learn/data-cleaning) course.  You can reference the tutorial at [this link](https://www.kaggle.com/alexisbcook/character-encodings).**\n",
    "\n",
    "---\n"
   ]
  },
  {
   "cell_type": "markdown",
   "id": "589b803e",
   "metadata": {
    "papermill": {
     "duration": 0.005151,
     "end_time": "2022-10-14T08:00:27.461981",
     "exception": false,
     "start_time": "2022-10-14T08:00:27.456830",
     "status": "completed"
    },
    "tags": []
   },
   "source": [
    "In this exercise, you'll apply what you learned in the **Character encodings** tutorial.\n",
    "\n",
    "# Setup\n",
    "\n",
    "The questions below will give you feedback on your work. Run the following cell to set up the feedback system."
   ]
  },
  {
   "cell_type": "code",
   "execution_count": 1,
   "id": "4d6f2246",
   "metadata": {
    "execution": {
     "iopub.execute_input": "2022-10-14T08:00:27.474955Z",
     "iopub.status.busy": "2022-10-14T08:00:27.474178Z",
     "iopub.status.idle": "2022-10-14T08:00:27.560331Z",
     "shell.execute_reply": "2022-10-14T08:00:27.559068Z"
    },
    "papermill": {
     "duration": 0.095727,
     "end_time": "2022-10-14T08:00:27.563043",
     "exception": false,
     "start_time": "2022-10-14T08:00:27.467316",
     "status": "completed"
    },
    "tags": []
   },
   "outputs": [
    {
     "name": "stdout",
     "output_type": "stream",
     "text": [
      "Setup Complete\n"
     ]
    }
   ],
   "source": [
    "from learntools.core import binder\n",
    "binder.bind(globals())\n",
    "from learntools.data_cleaning.ex4 import *\n",
    "print(\"Setup Complete\")"
   ]
  },
  {
   "cell_type": "markdown",
   "id": "80b96689",
   "metadata": {
    "papermill": {
     "duration": 0.005358,
     "end_time": "2022-10-14T08:00:27.574018",
     "exception": false,
     "start_time": "2022-10-14T08:00:27.568660",
     "status": "completed"
    },
    "tags": []
   },
   "source": [
    "# Get our environment set up\n",
    "\n",
    "The first thing we'll need to do is load in the libraries we'll be using."
   ]
  },
  {
   "cell_type": "code",
   "execution_count": 2,
   "id": "ea424f35",
   "metadata": {
    "execution": {
     "iopub.execute_input": "2022-10-14T08:00:27.587135Z",
     "iopub.status.busy": "2022-10-14T08:00:27.586471Z",
     "iopub.status.idle": "2022-10-14T08:00:27.591909Z",
     "shell.execute_reply": "2022-10-14T08:00:27.591025Z"
    },
    "papermill": {
     "duration": 0.014679,
     "end_time": "2022-10-14T08:00:27.594205",
     "exception": false,
     "start_time": "2022-10-14T08:00:27.579526",
     "status": "completed"
    },
    "tags": []
   },
   "outputs": [],
   "source": [
    "# modules we'll use\n",
    "import pandas as pd\n",
    "import numpy as np\n",
    "\n",
    "# helpful character encoding module\n",
    "import chardet\n",
    "\n",
    "# set seed for reproducibility\n",
    "np.random.seed(0)"
   ]
  },
  {
   "cell_type": "markdown",
   "id": "bbc88f5a",
   "metadata": {
    "papermill": {
     "duration": 0.005229,
     "end_time": "2022-10-14T08:00:27.605296",
     "exception": false,
     "start_time": "2022-10-14T08:00:27.600067",
     "status": "completed"
    },
    "tags": []
   },
   "source": [
    "# 1) What are encodings?\n",
    "\n",
    "You're working with a dataset composed of bytes.  Run the code cell below to print a sample entry."
   ]
  },
  {
   "cell_type": "code",
   "execution_count": 3,
   "id": "8db6a967",
   "metadata": {
    "execution": {
     "iopub.execute_input": "2022-10-14T08:00:27.618598Z",
     "iopub.status.busy": "2022-10-14T08:00:27.617954Z",
     "iopub.status.idle": "2022-10-14T08:00:27.624044Z",
     "shell.execute_reply": "2022-10-14T08:00:27.622980Z"
    },
    "papermill": {
     "duration": 0.015897,
     "end_time": "2022-10-14T08:00:27.626632",
     "exception": false,
     "start_time": "2022-10-14T08:00:27.610735",
     "status": "completed"
    },
    "tags": []
   },
   "outputs": [
    {
     "name": "stdout",
     "output_type": "stream",
     "text": [
      "b'\\xa7A\\xa6n'\n",
      "data type: <class 'bytes'>\n"
     ]
    }
   ],
   "source": [
    "sample_entry = b'\\xa7A\\xa6n'\n",
    "print(sample_entry)\n",
    "print('data type:', type(sample_entry))"
   ]
  },
  {
   "cell_type": "markdown",
   "id": "4a08dc26",
   "metadata": {
    "papermill": {
     "duration": 0.005524,
     "end_time": "2022-10-14T08:00:27.638122",
     "exception": false,
     "start_time": "2022-10-14T08:00:27.632598",
     "status": "completed"
    },
    "tags": []
   },
   "source": [
    "You notice that it doesn't use the standard UTF-8 encoding. \n",
    "\n",
    "Use the next code cell to create a variable `new_entry` that changes the encoding from `\"big5-tw\"` to `\"utf-8\"`.  `new_entry` should have the bytes datatype."
   ]
  },
  {
   "cell_type": "code",
   "execution_count": 4,
   "id": "fa606836",
   "metadata": {
    "execution": {
     "iopub.execute_input": "2022-10-14T08:00:27.651680Z",
     "iopub.status.busy": "2022-10-14T08:00:27.650698Z",
     "iopub.status.idle": "2022-10-14T08:00:27.657529Z",
     "shell.execute_reply": "2022-10-14T08:00:27.656249Z"
    },
    "papermill": {
     "duration": 0.016018,
     "end_time": "2022-10-14T08:00:27.660001",
     "exception": false,
     "start_time": "2022-10-14T08:00:27.643983",
     "status": "completed"
    },
    "tags": []
   },
   "outputs": [],
   "source": [
    "before=sample_entry.decode(\"big5-tw\")"
   ]
  },
  {
   "cell_type": "code",
   "execution_count": 5,
   "id": "4b83ee0a",
   "metadata": {
    "execution": {
     "iopub.execute_input": "2022-10-14T08:00:27.672836Z",
     "iopub.status.busy": "2022-10-14T08:00:27.672476Z",
     "iopub.status.idle": "2022-10-14T08:00:27.677190Z",
     "shell.execute_reply": "2022-10-14T08:00:27.676022Z"
    },
    "papermill": {
     "duration": 0.013733,
     "end_time": "2022-10-14T08:00:27.679276",
     "exception": false,
     "start_time": "2022-10-14T08:00:27.665543",
     "status": "completed"
    },
    "tags": []
   },
   "outputs": [],
   "source": [
    "after=before.encode()"
   ]
  },
  {
   "cell_type": "code",
   "execution_count": 6,
   "id": "e9db6b14",
   "metadata": {
    "execution": {
     "iopub.execute_input": "2022-10-14T08:00:27.692192Z",
     "iopub.status.busy": "2022-10-14T08:00:27.691540Z",
     "iopub.status.idle": "2022-10-14T08:00:27.702891Z",
     "shell.execute_reply": "2022-10-14T08:00:27.701782Z"
    },
    "papermill": {
     "duration": 0.020438,
     "end_time": "2022-10-14T08:00:27.705167",
     "exception": false,
     "start_time": "2022-10-14T08:00:27.684729",
     "status": "completed"
    },
    "tags": []
   },
   "outputs": [
    {
     "data": {
      "application/javascript": [
       "parent.postMessage({\"jupyterEvent\": \"custom.exercise_interaction\", \"data\": {\"outcomeType\": 1, \"valueTowardsCompletion\": 0.3333333333333333, \"interactionType\": 1, \"questionType\": 1, \"questionId\": \"1_EncodingsIntro\", \"learnToolsVersion\": \"0.3.4\", \"failureMessage\": \"\", \"exceptionClass\": \"\", \"trace\": \"\"}}, \"*\")"
      ],
      "text/plain": [
       "<IPython.core.display.Javascript object>"
      ]
     },
     "metadata": {},
     "output_type": "display_data"
    },
    {
     "data": {
      "text/markdown": [
       "<span style=\"color:#33cc33\">Correct</span>"
      ],
      "text/plain": [
       "Correct"
      ]
     },
     "metadata": {},
     "output_type": "display_data"
    }
   ],
   "source": [
    "new_entry =before.encode()\n",
    "\n",
    "# Check your answer\n",
    "q1.check()"
   ]
  },
  {
   "cell_type": "code",
   "execution_count": 7,
   "id": "4ac7b005",
   "metadata": {
    "execution": {
     "iopub.execute_input": "2022-10-14T08:00:27.719744Z",
     "iopub.status.busy": "2022-10-14T08:00:27.719136Z",
     "iopub.status.idle": "2022-10-14T08:00:27.723520Z",
     "shell.execute_reply": "2022-10-14T08:00:27.722678Z"
    },
    "papermill": {
     "duration": 0.013551,
     "end_time": "2022-10-14T08:00:27.725588",
     "exception": false,
     "start_time": "2022-10-14T08:00:27.712037",
     "status": "completed"
    },
    "tags": []
   },
   "outputs": [],
   "source": [
    "# Lines below will give you a hint or solution code\n",
    "#q1.hint()\n",
    "#q1.solution()"
   ]
  },
  {
   "cell_type": "markdown",
   "id": "17c394da",
   "metadata": {
    "papermill": {
     "duration": 0.005461,
     "end_time": "2022-10-14T08:00:27.736749",
     "exception": false,
     "start_time": "2022-10-14T08:00:27.731288",
     "status": "completed"
    },
    "tags": []
   },
   "source": [
    "# 2) Reading in files with encoding problems\n",
    "\n",
    "Use the code cell below to read in this file at path `\"../input/fatal-police-shootings-in-the-us/PoliceKillingsUS.csv\"`.  \n",
    "\n",
    "Figure out what the correct encoding should be and read in the file to a DataFrame `police_killings`."
   ]
  },
  {
   "cell_type": "code",
   "execution_count": 8,
   "id": "4151ac1b",
   "metadata": {
    "execution": {
     "iopub.execute_input": "2022-10-14T08:00:27.750185Z",
     "iopub.status.busy": "2022-10-14T08:00:27.749768Z",
     "iopub.status.idle": "2022-10-14T08:00:27.766542Z",
     "shell.execute_reply": "2022-10-14T08:00:27.765277Z"
    },
    "papermill": {
     "duration": 0.026376,
     "end_time": "2022-10-14T08:00:27.768846",
     "exception": false,
     "start_time": "2022-10-14T08:00:27.742470",
     "status": "completed"
    },
    "tags": []
   },
   "outputs": [
    {
     "name": "stdout",
     "output_type": "stream",
     "text": [
      "{'encoding': 'ascii', 'confidence': 1.0, 'language': ''}\n"
     ]
    }
   ],
   "source": [
    "with open(\"../input/fatal-police-shootings-in-the-us/PoliceKillingsUS.csv\", 'rb') as rawdata:\n",
    "    result = chardet.detect(rawdata.read(10000))\n",
    "\n",
    "# check what the character encoding might be\n",
    "print(result)"
   ]
  },
  {
   "cell_type": "code",
   "execution_count": null,
   "id": "7bffec69",
   "metadata": {
    "papermill": {
     "duration": 0.005512,
     "end_time": "2022-10-14T08:00:27.780222",
     "exception": false,
     "start_time": "2022-10-14T08:00:27.774710",
     "status": "completed"
    },
    "tags": []
   },
   "outputs": [],
   "source": []
  },
  {
   "cell_type": "code",
   "execution_count": 9,
   "id": "9922f157",
   "metadata": {
    "execution": {
     "iopub.execute_input": "2022-10-14T08:00:27.794003Z",
     "iopub.status.busy": "2022-10-14T08:00:27.793561Z",
     "iopub.status.idle": "2022-10-14T08:00:27.822985Z",
     "shell.execute_reply": "2022-10-14T08:00:27.821606Z"
    },
    "papermill": {
     "duration": 0.039204,
     "end_time": "2022-10-14T08:00:27.825370",
     "exception": false,
     "start_time": "2022-10-14T08:00:27.786166",
     "status": "completed"
    },
    "tags": []
   },
   "outputs": [
    {
     "data": {
      "application/javascript": [
       "parent.postMessage({\"jupyterEvent\": \"custom.exercise_interaction\", \"data\": {\"outcomeType\": 1, \"valueTowardsCompletion\": 0.3333333333333333, \"interactionType\": 1, \"questionType\": 1, \"questionId\": \"2_ReadIn\", \"learnToolsVersion\": \"0.3.4\", \"failureMessage\": \"\", \"exceptionClass\": \"\", \"trace\": \"\"}}, \"*\")"
      ],
      "text/plain": [
       "<IPython.core.display.Javascript object>"
      ]
     },
     "metadata": {},
     "output_type": "display_data"
    },
    {
     "data": {
      "text/markdown": [
       "<span style=\"color:#33cc33\">Correct</span>"
      ],
      "text/plain": [
       "Correct"
      ]
     },
     "metadata": {},
     "output_type": "display_data"
    }
   ],
   "source": [
    "# TODO: Load in the DataFrame correctly.\n",
    "police_killings = pd.read_csv(\"../input/fatal-police-shootings-in-the-us/PoliceKillingsUS.csv\",encoding='Windows-1252')\n",
    "\n",
    "# Check your answer\n",
    "q2.check()"
   ]
  },
  {
   "cell_type": "markdown",
   "id": "ee5b3d69",
   "metadata": {
    "papermill": {
     "duration": 0.005792,
     "end_time": "2022-10-14T08:00:27.837410",
     "exception": false,
     "start_time": "2022-10-14T08:00:27.831618",
     "status": "completed"
    },
    "tags": []
   },
   "source": [
    "Feel free to use any additional code cells for supplemental work.  To get credit for finishing this question, you'll need to run `q2.check()` and get a result of **Correct**."
   ]
  },
  {
   "cell_type": "code",
   "execution_count": 10,
   "id": "2fa72c3f",
   "metadata": {
    "execution": {
     "iopub.execute_input": "2022-10-14T08:00:27.851816Z",
     "iopub.status.busy": "2022-10-14T08:00:27.850693Z",
     "iopub.status.idle": "2022-10-14T08:00:27.856443Z",
     "shell.execute_reply": "2022-10-14T08:00:27.855273Z"
    },
    "papermill": {
     "duration": 0.015485,
     "end_time": "2022-10-14T08:00:27.858953",
     "exception": false,
     "start_time": "2022-10-14T08:00:27.843468",
     "status": "completed"
    },
    "tags": []
   },
   "outputs": [],
   "source": [
    "# (Optional) Use this code cell for any additional work."
   ]
  },
  {
   "cell_type": "code",
   "execution_count": 11,
   "id": "e0d95c87",
   "metadata": {
    "execution": {
     "iopub.execute_input": "2022-10-14T08:00:27.875837Z",
     "iopub.status.busy": "2022-10-14T08:00:27.874583Z",
     "iopub.status.idle": "2022-10-14T08:00:27.883653Z",
     "shell.execute_reply": "2022-10-14T08:00:27.882501Z"
    },
    "papermill": {
     "duration": 0.019775,
     "end_time": "2022-10-14T08:00:27.885927",
     "exception": false,
     "start_time": "2022-10-14T08:00:27.866152",
     "status": "completed"
    },
    "tags": []
   },
   "outputs": [
    {
     "data": {
      "application/javascript": [
       "parent.postMessage({\"jupyterEvent\": \"custom.exercise_interaction\", \"data\": {\"interactionType\": 2, \"questionType\": 1, \"questionId\": \"2_ReadIn\", \"learnToolsVersion\": \"0.3.4\", \"valueTowardsCompletion\": 0.0, \"failureMessage\": \"\", \"exceptionClass\": \"\", \"trace\": \"\", \"outcomeType\": 4}}, \"*\")"
      ],
      "text/plain": [
       "<IPython.core.display.Javascript object>"
      ]
     },
     "metadata": {},
     "output_type": "display_data"
    },
    {
     "data": {
      "text/markdown": [
       "<span style=\"color:#3366cc\">Hint:</span> If you try to guess the encoding with the first 10,000 bytes of the file, it might give you the wrong answer.  Try using 100,000 or more lines of the file."
      ],
      "text/plain": [
       "Hint: If you try to guess the encoding with the first 10,000 bytes of the file, it might give you the wrong answer.  Try using 100,000 or more lines of the file."
      ]
     },
     "metadata": {},
     "output_type": "display_data"
    }
   ],
   "source": [
    "# Lines below will give you a hint or solution code\n",
    "q2.hint()\n",
    "#q2.solution()"
   ]
  },
  {
   "cell_type": "markdown",
   "id": "c55fbed3",
   "metadata": {
    "papermill": {
     "duration": 0.006133,
     "end_time": "2022-10-14T08:00:27.898438",
     "exception": false,
     "start_time": "2022-10-14T08:00:27.892305",
     "status": "completed"
    },
    "tags": []
   },
   "source": [
    "# 3) Saving your files with UTF-8 encoding\n",
    "\n",
    "Save a version of the police killings dataset to CSV with UTF-8 encoding.  Your answer will be marked correct after saving this file.  \n",
    "\n",
    "Note: When using the `to_csv()` method, supply only the name of the file (e.g., `\"my_file.csv\"`).  This saves the file at the filepath `\"/kaggle/working/my_file.csv\"`."
   ]
  },
  {
   "cell_type": "code",
   "execution_count": 12,
   "id": "ad491760",
   "metadata": {
    "execution": {
     "iopub.execute_input": "2022-10-14T08:00:27.913847Z",
     "iopub.status.busy": "2022-10-14T08:00:27.913434Z",
     "iopub.status.idle": "2022-10-14T08:00:27.957127Z",
     "shell.execute_reply": "2022-10-14T08:00:27.956221Z"
    },
    "papermill": {
     "duration": 0.053783,
     "end_time": "2022-10-14T08:00:27.959292",
     "exception": false,
     "start_time": "2022-10-14T08:00:27.905509",
     "status": "completed"
    },
    "tags": []
   },
   "outputs": [
    {
     "data": {
      "application/javascript": [
       "parent.postMessage({\"jupyterEvent\": \"custom.exercise_interaction\", \"data\": {\"outcomeType\": 1, \"valueTowardsCompletion\": 0.3333333333333333, \"interactionType\": 1, \"questionType\": 2, \"questionId\": \"3_SaveCSV\", \"learnToolsVersion\": \"0.3.4\", \"failureMessage\": \"\", \"exceptionClass\": \"\", \"trace\": \"\"}}, \"*\")"
      ],
      "text/plain": [
       "<IPython.core.display.Javascript object>"
      ]
     },
     "metadata": {},
     "output_type": "display_data"
    },
    {
     "data": {
      "text/markdown": [
       "<span style=\"color:#33cc33\">Correct</span>"
      ],
      "text/plain": [
       "Correct"
      ]
     },
     "metadata": {},
     "output_type": "display_data"
    }
   ],
   "source": [
    "# TODO: Save the police killings dataset to CSV\n",
    "police_killings.to_csv(\"my_file.csv\")\n",
    "\n",
    "\n",
    "# Check your answer\n",
    "q3.check()"
   ]
  },
  {
   "cell_type": "code",
   "execution_count": 13,
   "id": "e0be4d04",
   "metadata": {
    "execution": {
     "iopub.execute_input": "2022-10-14T08:00:27.976447Z",
     "iopub.status.busy": "2022-10-14T08:00:27.975862Z",
     "iopub.status.idle": "2022-10-14T08:00:27.979661Z",
     "shell.execute_reply": "2022-10-14T08:00:27.978775Z"
    },
    "papermill": {
     "duration": 0.01515,
     "end_time": "2022-10-14T08:00:27.981758",
     "exception": false,
     "start_time": "2022-10-14T08:00:27.966608",
     "status": "completed"
    },
    "tags": []
   },
   "outputs": [],
   "source": [
    "# Lines below will give you a hint or solution code\n",
    "#q3.hint()\n",
    "#q3.solution()"
   ]
  },
  {
   "cell_type": "markdown",
   "id": "d3c890f9",
   "metadata": {
    "papermill": {
     "duration": 0.006461,
     "end_time": "2022-10-14T08:00:27.995056",
     "exception": false,
     "start_time": "2022-10-14T08:00:27.988595",
     "status": "completed"
    },
    "tags": []
   },
   "source": [
    "# (Optional) More practice\n",
    "\n",
    "Check out [this dataset of files in different character encodings](https://www.kaggle.com/rtatman/character-encoding-examples). Can you read in all the files with their original encodings and them save them out as UTF-8 files?\n",
    "\n",
    "If you have a file that's in UTF-8 but has just a couple of weird-looking characters in it, you can try out the [ftfy module](https://ftfy.readthedocs.io/en/latest/#) and see if it helps. \n",
    "\n",
    "# Keep going\n",
    "\n",
    "In the final lesson, learn how to [**clean up inconsistent text entries**](https://www.kaggle.com/alexisbcook/inconsistent-data-entry) in your dataset."
   ]
  },
  {
   "cell_type": "markdown",
   "id": "067599e7",
   "metadata": {
    "papermill": {
     "duration": 0.006491,
     "end_time": "2022-10-14T08:00:28.008237",
     "exception": false,
     "start_time": "2022-10-14T08:00:28.001746",
     "status": "completed"
    },
    "tags": []
   },
   "source": [
    "---\n",
    "\n",
    "\n",
    "\n",
    "\n",
    "*Have questions or comments? Visit the [course discussion forum](https://www.kaggle.com/learn/data-cleaning/discussion) to chat with other learners.*"
   ]
  }
 ],
 "metadata": {
  "kernelspec": {
   "display_name": "Python 3",
   "language": "python",
   "name": "python3"
  },
  "language_info": {
   "codemirror_mode": {
    "name": "ipython",
    "version": 3
   },
   "file_extension": ".py",
   "mimetype": "text/x-python",
   "name": "python",
   "nbconvert_exporter": "python",
   "pygments_lexer": "ipython3",
   "version": "3.7.12"
  },
  "papermill": {
   "default_parameters": {},
   "duration": 10.529305,
   "end_time": "2022-10-14T08:00:28.637021",
   "environment_variables": {},
   "exception": null,
   "input_path": "__notebook__.ipynb",
   "output_path": "__notebook__.ipynb",
   "parameters": {},
   "start_time": "2022-10-14T08:00:18.107716",
   "version": "2.3.4"
  }
 },
 "nbformat": 4,
 "nbformat_minor": 5
}
