{
 "cells": [
  {
   "cell_type": "markdown",
   "id": "e8b435f8",
   "metadata": {
    "papermill": {
     "duration": 0.005589,
     "end_time": "2022-10-14T07:52:55.198447",
     "exception": false,
     "start_time": "2022-10-14T07:52:55.192858",
     "status": "completed"
    },
    "tags": []
   },
   "source": [
    "**This notebook is an exercise in the [Data Cleaning](https://www.kaggle.com/learn/data-cleaning) course.  You can reference the tutorial at [this link](https://www.kaggle.com/alexisbcook/scaling-and-normalization).**\n",
    "\n",
    "---\n"
   ]
  },
  {
   "cell_type": "markdown",
   "id": "24744688",
   "metadata": {
    "papermill": {
     "duration": 0.004247,
     "end_time": "2022-10-14T07:52:55.207634",
     "exception": false,
     "start_time": "2022-10-14T07:52:55.203387",
     "status": "completed"
    },
    "tags": []
   },
   "source": [
    "In this exercise, you'll apply what you learned in the **Scaling and normalization** tutorial.\n",
    "\n",
    "# Setup\n",
    "\n",
    "The questions below will give you feedback on your work. Run the following cell to set up the feedback system."
   ]
  },
  {
   "cell_type": "code",
   "execution_count": 1,
   "id": "4a325633",
   "metadata": {
    "execution": {
     "iopub.execute_input": "2022-10-14T07:52:55.218418Z",
     "iopub.status.busy": "2022-10-14T07:52:55.217888Z",
     "iopub.status.idle": "2022-10-14T07:52:58.575827Z",
     "shell.execute_reply": "2022-10-14T07:52:58.574945Z"
    },
    "papermill": {
     "duration": 3.366086,
     "end_time": "2022-10-14T07:52:58.578181",
     "exception": false,
     "start_time": "2022-10-14T07:52:55.212095",
     "status": "completed"
    },
    "tags": []
   },
   "outputs": [
    {
     "name": "stdout",
     "output_type": "stream",
     "text": [
      "Setup Complete\n"
     ]
    }
   ],
   "source": [
    "from learntools.core import binder\n",
    "binder.bind(globals())\n",
    "from learntools.data_cleaning.ex2 import *\n",
    "print(\"Setup Complete\")"
   ]
  },
  {
   "cell_type": "markdown",
   "id": "292bbc27",
   "metadata": {
    "papermill": {
     "duration": 0.004433,
     "end_time": "2022-10-14T07:52:58.587298",
     "exception": false,
     "start_time": "2022-10-14T07:52:58.582865",
     "status": "completed"
    },
    "tags": []
   },
   "source": [
    "# Get our environment set up\n",
    "\n",
    "To practice scaling and normalization, we're going to use a [dataset of Kickstarter campaigns](https://www.kaggle.com/kemical/kickstarter-projects). (Kickstarter is a website where people can ask people to invest in various projects and concept products.)\n",
    "\n",
    "The next code cell loads in the libraries and dataset we'll be using. "
   ]
  },
  {
   "cell_type": "code",
   "execution_count": 2,
   "id": "ce500e68",
   "metadata": {
    "execution": {
     "iopub.execute_input": "2022-10-14T07:52:58.598771Z",
     "iopub.status.busy": "2022-10-14T07:52:58.598319Z",
     "iopub.status.idle": "2022-10-14T07:52:59.592328Z",
     "shell.execute_reply": "2022-10-14T07:52:59.591086Z"
    },
    "papermill": {
     "duration": 1.0019,
     "end_time": "2022-10-14T07:52:59.594427",
     "exception": false,
     "start_time": "2022-10-14T07:52:58.592527",
     "status": "completed"
    },
    "tags": []
   },
   "outputs": [],
   "source": [
    "# modules we'll use\n",
    "import pandas as pd\n",
    "import numpy as np\n",
    "\n",
    "# for Box-Cox Transformation\n",
    "from scipy import stats\n",
    "\n",
    "# for min_max scaling\n",
    "from mlxtend.preprocessing import minmax_scaling\n",
    "\n",
    "# plotting modules\n",
    "import seaborn as sns\n",
    "import matplotlib.pyplot as plt\n",
    "\n",
    "# read in all our data\n",
    "kickstarters_2017 = pd.read_csv(\"../input/kickstarter-projects/ks-projects-201801.csv\")\n",
    "\n",
    "# set seed for reproducibility\n",
    "np.random.seed(0)"
   ]
  },
  {
   "cell_type": "markdown",
   "id": "d076282b",
   "metadata": {
    "papermill": {
     "duration": 0.004618,
     "end_time": "2022-10-14T07:52:59.603773",
     "exception": false,
     "start_time": "2022-10-14T07:52:59.599155",
     "status": "completed"
    },
    "tags": []
   },
   "source": [
    "Let's start by scaling the goals of each campaign, which is how much money they were asking for.  After scaling, all values lie between 0 and 1."
   ]
  },
  {
   "cell_type": "code",
   "execution_count": 3,
   "id": "a067082a",
   "metadata": {
    "execution": {
     "iopub.execute_input": "2022-10-14T07:52:59.615011Z",
     "iopub.status.busy": "2022-10-14T07:52:59.614626Z",
     "iopub.status.idle": "2022-10-14T07:52:59.650832Z",
     "shell.execute_reply": "2022-10-14T07:52:59.649160Z"
    },
    "papermill": {
     "duration": 0.046529,
     "end_time": "2022-10-14T07:52:59.655084",
     "exception": false,
     "start_time": "2022-10-14T07:52:59.608555",
     "status": "completed"
    },
    "tags": []
   },
   "outputs": [
    {
     "name": "stdout",
     "output_type": "stream",
     "text": [
      "Original data\n",
      "Preview:\n",
      "    usd_goal_real\n",
      "0        1533.95\n",
      "1       30000.00\n",
      "2       45000.00\n",
      "3        5000.00\n",
      "4       19500.00\n",
      "Minimum value: 0.01 \n",
      "Maximum value: 166361390.71\n",
      "______________________________\n",
      "\n",
      "Scaled data\n",
      "Preview:\n",
      "    usd_goal_real\n",
      "0       0.000009\n",
      "1       0.000180\n",
      "2       0.000270\n",
      "3       0.000030\n",
      "4       0.000117\n",
      "Minimum value: 0.0 \n",
      "Maximum value: 1.0\n"
     ]
    }
   ],
   "source": [
    "# select the usd_goal_real column\n",
    "original_data = pd.DataFrame(kickstarters_2017.usd_goal_real)\n",
    "\n",
    "# scale the goals from 0 to 1\n",
    "scaled_data = minmax_scaling(original_data, columns=['usd_goal_real'])\n",
    "\n",
    "print('Original data\\nPreview:\\n', original_data.head())\n",
    "print('Minimum value:', float(original_data.min()),\n",
    "      '\\nMaximum value:', float(original_data.max()))\n",
    "print('_'*30)\n",
    "\n",
    "print('\\nScaled data\\nPreview:\\n', scaled_data.head())\n",
    "print('Minimum value:', float(scaled_data.min()),\n",
    "      '\\nMaximum value:', float(scaled_data.max()))"
   ]
  },
  {
   "cell_type": "markdown",
   "id": "2c5b9154",
   "metadata": {
    "papermill": {
     "duration": 0.004149,
     "end_time": "2022-10-14T07:52:59.664680",
     "exception": false,
     "start_time": "2022-10-14T07:52:59.660531",
     "status": "completed"
    },
    "tags": []
   },
   "source": [
    "# 1) Practice scaling\n",
    "\n",
    "We just scaled the \"usd_goal_real\" column. What about the \"goal\" column?\n",
    "\n",
    "Begin by running the code cell below to create a DataFrame `original_goal_data` containing the \"goal\" column."
   ]
  },
  {
   "cell_type": "code",
   "execution_count": 4,
   "id": "188ad2bb",
   "metadata": {
    "execution": {
     "iopub.execute_input": "2022-10-14T07:52:59.675279Z",
     "iopub.status.busy": "2022-10-14T07:52:59.674874Z",
     "iopub.status.idle": "2022-10-14T07:52:59.692908Z",
     "shell.execute_reply": "2022-10-14T07:52:59.691101Z"
    },
    "papermill": {
     "duration": 0.026502,
     "end_time": "2022-10-14T07:52:59.695566",
     "exception": false,
     "start_time": "2022-10-14T07:52:59.669064",
     "status": "completed"
    },
    "tags": []
   },
   "outputs": [
    {
     "data": {
      "text/html": [
       "<div>\n",
       "<style scoped>\n",
       "    .dataframe tbody tr th:only-of-type {\n",
       "        vertical-align: middle;\n",
       "    }\n",
       "\n",
       "    .dataframe tbody tr th {\n",
       "        vertical-align: top;\n",
       "    }\n",
       "\n",
       "    .dataframe thead th {\n",
       "        text-align: right;\n",
       "    }\n",
       "</style>\n",
       "<table border=\"1\" class=\"dataframe\">\n",
       "  <thead>\n",
       "    <tr style=\"text-align: right;\">\n",
       "      <th></th>\n",
       "      <th>goal</th>\n",
       "    </tr>\n",
       "  </thead>\n",
       "  <tbody>\n",
       "    <tr>\n",
       "      <th>0</th>\n",
       "      <td>1000.0</td>\n",
       "    </tr>\n",
       "    <tr>\n",
       "      <th>1</th>\n",
       "      <td>30000.0</td>\n",
       "    </tr>\n",
       "    <tr>\n",
       "      <th>2</th>\n",
       "      <td>45000.0</td>\n",
       "    </tr>\n",
       "    <tr>\n",
       "      <th>3</th>\n",
       "      <td>5000.0</td>\n",
       "    </tr>\n",
       "    <tr>\n",
       "      <th>4</th>\n",
       "      <td>19500.0</td>\n",
       "    </tr>\n",
       "    <tr>\n",
       "      <th>...</th>\n",
       "      <td>...</td>\n",
       "    </tr>\n",
       "    <tr>\n",
       "      <th>378656</th>\n",
       "      <td>50000.0</td>\n",
       "    </tr>\n",
       "    <tr>\n",
       "      <th>378657</th>\n",
       "      <td>1500.0</td>\n",
       "    </tr>\n",
       "    <tr>\n",
       "      <th>378658</th>\n",
       "      <td>15000.0</td>\n",
       "    </tr>\n",
       "    <tr>\n",
       "      <th>378659</th>\n",
       "      <td>15000.0</td>\n",
       "    </tr>\n",
       "    <tr>\n",
       "      <th>378660</th>\n",
       "      <td>2000.0</td>\n",
       "    </tr>\n",
       "  </tbody>\n",
       "</table>\n",
       "<p>378661 rows × 1 columns</p>\n",
       "</div>"
      ],
      "text/plain": [
       "           goal\n",
       "0        1000.0\n",
       "1       30000.0\n",
       "2       45000.0\n",
       "3        5000.0\n",
       "4       19500.0\n",
       "...         ...\n",
       "378656  50000.0\n",
       "378657   1500.0\n",
       "378658  15000.0\n",
       "378659  15000.0\n",
       "378660   2000.0\n",
       "\n",
       "[378661 rows x 1 columns]"
      ]
     },
     "execution_count": 4,
     "metadata": {},
     "output_type": "execute_result"
    }
   ],
   "source": [
    "# select the usd_goal_real column\n",
    "original_goal_data =pd.DataFrame(kickstarters_2017.goal)\n",
    "original_goal_data\n"
   ]
  },
  {
   "cell_type": "markdown",
   "id": "f09a3cd4",
   "metadata": {
    "papermill": {
     "duration": 0.004391,
     "end_time": "2022-10-14T07:52:59.704980",
     "exception": false,
     "start_time": "2022-10-14T07:52:59.700589",
     "status": "completed"
    },
    "tags": []
   },
   "source": [
    "Use `original_goal_data` to create a new DataFrame `scaled_goal_data` with values scaled between 0 and 1. You must use the `minmax_scaling()` function."
   ]
  },
  {
   "cell_type": "code",
   "execution_count": 5,
   "id": "eec65195",
   "metadata": {
    "execution": {
     "iopub.execute_input": "2022-10-14T07:52:59.716010Z",
     "iopub.status.busy": "2022-10-14T07:52:59.715680Z",
     "iopub.status.idle": "2022-10-14T07:52:59.741989Z",
     "shell.execute_reply": "2022-10-14T07:52:59.740582Z"
    },
    "papermill": {
     "duration": 0.034413,
     "end_time": "2022-10-14T07:52:59.744030",
     "exception": false,
     "start_time": "2022-10-14T07:52:59.709617",
     "status": "completed"
    },
    "tags": []
   },
   "outputs": [
    {
     "data": {
      "application/javascript": [
       "parent.postMessage({\"jupyterEvent\": \"custom.exercise_interaction\", \"data\": {\"outcomeType\": 1, \"valueTowardsCompletion\": 0.3333333333333333, \"interactionType\": 1, \"questionType\": 1, \"questionId\": \"1_TryScaling\", \"learnToolsVersion\": \"0.3.4\", \"failureMessage\": \"\", \"exceptionClass\": \"\", \"trace\": \"\"}}, \"*\")"
      ],
      "text/plain": [
       "<IPython.core.display.Javascript object>"
      ]
     },
     "metadata": {},
     "output_type": "display_data"
    },
    {
     "data": {
      "text/markdown": [
       "<span style=\"color:#33cc33\">Correct</span>"
      ],
      "text/plain": [
       "Correct"
      ]
     },
     "metadata": {},
     "output_type": "display_data"
    }
   ],
   "source": [
    "# TODO: Your code here\n",
    "scaled_goal_data =minmax_scaling(original_goal_data ,columns=['goal'])\n",
    "\n",
    "# Check your answer\n",
    "q1.check()"
   ]
  },
  {
   "cell_type": "code",
   "execution_count": 6,
   "id": "0bc97b14",
   "metadata": {
    "execution": {
     "iopub.execute_input": "2022-10-14T07:52:59.756305Z",
     "iopub.status.busy": "2022-10-14T07:52:59.755953Z",
     "iopub.status.idle": "2022-10-14T07:52:59.760676Z",
     "shell.execute_reply": "2022-10-14T07:52:59.759602Z"
    },
    "papermill": {
     "duration": 0.013832,
     "end_time": "2022-10-14T07:52:59.762857",
     "exception": false,
     "start_time": "2022-10-14T07:52:59.749025",
     "status": "completed"
    },
    "tags": []
   },
   "outputs": [],
   "source": [
    "# Lines below will give you a hint or solution code\n",
    "#q1.hint()\n",
    "#q1.solution()"
   ]
  },
  {
   "cell_type": "markdown",
   "id": "9102a65e",
   "metadata": {
    "papermill": {
     "duration": 0.004655,
     "end_time": "2022-10-14T07:52:59.772548",
     "exception": false,
     "start_time": "2022-10-14T07:52:59.767893",
     "status": "completed"
    },
    "tags": []
   },
   "source": [
    "# 2) Practice normalization\n",
    "\n",
    "Now you'll practice normalization. We begin by normalizing the amount of money pledged to each campaign."
   ]
  },
  {
   "cell_type": "code",
   "execution_count": 7,
   "id": "bc2f5b46",
   "metadata": {
    "execution": {
     "iopub.execute_input": "2022-10-14T07:52:59.784206Z",
     "iopub.status.busy": "2022-10-14T07:52:59.783841Z",
     "iopub.status.idle": "2022-10-14T07:52:59.966484Z",
     "shell.execute_reply": "2022-10-14T07:52:59.964193Z"
    },
    "papermill": {
     "duration": 0.193117,
     "end_time": "2022-10-14T07:52:59.970606",
     "exception": false,
     "start_time": "2022-10-14T07:52:59.777489",
     "status": "completed"
    },
    "tags": []
   },
   "outputs": [
    {
     "name": "stdout",
     "output_type": "stream",
     "text": [
      "Original data\n",
      "Preview:\n",
      " 1     2421.0\n",
      "2      220.0\n",
      "3        1.0\n",
      "4     1283.0\n",
      "5    52375.0\n",
      "Name: usd_pledged_real, dtype: float64\n",
      "Minimum value: 0.45 \n",
      "Maximum value: 20338986.27\n",
      "______________________________\n",
      "\n",
      "Normalized data\n",
      "Preview:\n",
      " 1    10.165142\n",
      "2     6.468598\n",
      "3     0.000000\n",
      "4     9.129277\n",
      "5    15.836853\n",
      "Name: usd_pledged_real, dtype: float64\n",
      "Minimum value: -0.7779954122762203 \n",
      "Maximum value: 30.69054020451361\n"
     ]
    }
   ],
   "source": [
    "# get the index of all positive pledges (Box-Cox only takes positive values)\n",
    "index_of_positive_pledges = kickstarters_2017.usd_pledged_real > 0\n",
    "\n",
    "# get only positive pledges (using their indexes)\n",
    "positive_pledges = kickstarters_2017.usd_pledged_real.loc[index_of_positive_pledges]\n",
    "\n",
    "# normalize the pledges (w/ Box-Cox)\n",
    "normalized_pledges = pd.Series(stats.boxcox(positive_pledges)[0], \n",
    "                               name='usd_pledged_real', index=positive_pledges.index)\n",
    "\n",
    "print('Original data\\nPreview:\\n', positive_pledges.head())\n",
    "print('Minimum value:', float(positive_pledges.min()),\n",
    "      '\\nMaximum value:', float(positive_pledges.max()))\n",
    "print('_'*30)\n",
    "\n",
    "print('\\nNormalized data\\nPreview:\\n', normalized_pledges.head())\n",
    "print('Minimum value:', float(normalized_pledges.min()),\n",
    "      '\\nMaximum value:', float(normalized_pledges.max()))"
   ]
  },
  {
   "cell_type": "markdown",
   "id": "74e9463c",
   "metadata": {
    "papermill": {
     "duration": 0.004709,
     "end_time": "2022-10-14T07:52:59.980686",
     "exception": false,
     "start_time": "2022-10-14T07:52:59.975977",
     "status": "completed"
    },
    "tags": []
   },
   "source": [
    "The values have changed significantly with normalization!\n",
    "\n",
    "In the next code cell, you'll take a look at the distribution of the normalized data, where it should now resemble a normal distribution."
   ]
  },
  {
   "cell_type": "code",
   "execution_count": 8,
   "id": "5fafa491",
   "metadata": {
    "execution": {
     "iopub.execute_input": "2022-10-14T07:52:59.992055Z",
     "iopub.status.busy": "2022-10-14T07:52:59.991715Z",
     "iopub.status.idle": "2022-10-14T07:53:01.991802Z",
     "shell.execute_reply": "2022-10-14T07:53:01.990349Z"
    },
    "papermill": {
     "duration": 2.00883,
     "end_time": "2022-10-14T07:53:01.994377",
     "exception": false,
     "start_time": "2022-10-14T07:52:59.985547",
     "status": "completed"
    },
    "tags": []
   },
   "outputs": [
    {
     "data": {
      "image/png": "[encoded data removed]",
      "text/plain": [
       "<Figure size 432x288 with 1 Axes>"
      ]
     },
     "metadata": {
      "needs_background": "light"
     },
     "output_type": "display_data"
    }
   ],
   "source": [
    "# plot normalized data\n",
    "ax = sns.histplot(normalized_pledges, kde=True)\n",
    "ax.set_title(\"Normalized data\")\n",
    "plt.show()"
   ]
  },
  {
   "cell_type": "markdown",
   "id": "4cd32466",
   "metadata": {
    "papermill": {
     "duration": 0.00521,
     "end_time": "2022-10-14T07:53:02.005360",
     "exception": false,
     "start_time": "2022-10-14T07:53:02.000150",
     "status": "completed"
    },
    "tags": []
   },
   "source": [
    "We used the \"usd_pledged_real\" column. Follow the same process to normalize the \"pledged\" column. "
   ]
  },
  {
   "cell_type": "code",
   "execution_count": 9,
   "id": "a9bc588c",
   "metadata": {
    "execution": {
     "iopub.execute_input": "2022-10-14T07:53:02.019578Z",
     "iopub.status.busy": "2022-10-14T07:53:02.018098Z",
     "iopub.status.idle": "2022-10-14T07:53:03.939458Z",
     "shell.execute_reply": "2022-10-14T07:53:03.937932Z"
    },
    "papermill": {
     "duration": 1.930868,
     "end_time": "2022-10-14T07:53:03.941588",
     "exception": false,
     "start_time": "2022-10-14T07:53:02.010720",
     "status": "completed"
    },
    "tags": []
   },
   "outputs": [
    {
     "data": {
      "image/png": "[encoded data removed]",
      "text/plain": [
       "<Figure size 432x288 with 1 Axes>"
      ]
     },
     "metadata": {
      "needs_background": "light"
     },
     "output_type": "display_data"
    }
   ],
   "source": [
    "# TODO: Your code here!\n",
    "ax = sns.histplot(normalized_pledges, kde=True)\n",
    "ax.set_title(\"pledged\")\n",
    "plt.show()\n"
   ]
  },
  {
   "cell_type": "markdown",
   "id": "ef6c23ad",
   "metadata": {
    "papermill": {
     "duration": 0.005324,
     "end_time": "2022-10-14T07:53:03.952722",
     "exception": false,
     "start_time": "2022-10-14T07:53:03.947398",
     "status": "completed"
    },
    "tags": []
   },
   "source": [
    "How does the normalized \"usd_pledged_real\" column look different from when we normalized the \"pledged\" column?  Or, do they look mostly the same?\n",
    "\n",
    "Once you have an answer, run the code cell below."
   ]
  },
  {
   "cell_type": "code",
   "execution_count": 10,
   "id": "5694e1f5",
   "metadata": {
    "execution": {
     "iopub.execute_input": "2022-10-14T07:53:03.965787Z",
     "iopub.status.busy": "2022-10-14T07:53:03.965468Z",
     "iopub.status.idle": "2022-10-14T07:53:03.974743Z",
     "shell.execute_reply": "2022-10-14T07:53:03.972948Z"
    },
    "papermill": {
     "duration": 0.018694,
     "end_time": "2022-10-14T07:53:03.977236",
     "exception": false,
     "start_time": "2022-10-14T07:53:03.958542",
     "status": "completed"
    },
    "tags": []
   },
   "outputs": [
    {
     "data": {
      "application/javascript": [
       "parent.postMessage({\"jupyterEvent\": \"custom.exercise_interaction\", \"data\": {\"outcomeType\": 1, \"valueTowardsCompletion\": 0.3333333333333333, \"interactionType\": 1, \"questionType\": 4, \"questionId\": \"2_TryNormalization\", \"learnToolsVersion\": \"0.3.4\", \"failureMessage\": \"\", \"exceptionClass\": \"\", \"trace\": \"\"}}, \"*\")"
      ],
      "text/plain": [
       "<IPython.core.display.Javascript object>"
      ]
     },
     "metadata": {},
     "output_type": "display_data"
    },
    {
     "data": {
      "text/markdown": [
       "<span style=\"color:#33cc33\">Correct:</span> \n",
       "\n",
       "The distributions in the normalized data look mostly the same."
      ],
      "text/plain": [
       "Correct: \n",
       "\n",
       "The distributions in the normalized data look mostly the same."
      ]
     },
     "metadata": {},
     "output_type": "display_data"
    }
   ],
   "source": [
    "# Check your answer (Run this code cell to receive credit!)\n",
    "q2.check()"
   ]
  },
  {
   "cell_type": "code",
   "execution_count": 11,
   "id": "d30d30d3",
   "metadata": {
    "execution": {
     "iopub.execute_input": "2022-10-14T07:53:03.991228Z",
     "iopub.status.busy": "2022-10-14T07:53:03.990613Z",
     "iopub.status.idle": "2022-10-14T07:53:03.994553Z",
     "shell.execute_reply": "2022-10-14T07:53:03.993297Z"
    },
    "papermill": {
     "duration": 0.013641,
     "end_time": "2022-10-14T07:53:03.996992",
     "exception": false,
     "start_time": "2022-10-14T07:53:03.983351",
     "status": "completed"
    },
    "tags": []
   },
   "outputs": [],
   "source": [
    "# Line below will give you a hint\n",
    "#q2.hint()"
   ]
  },
  {
   "cell_type": "markdown",
   "id": "a83170ba",
   "metadata": {
    "papermill": {
     "duration": 0.006114,
     "end_time": "2022-10-14T07:53:04.009452",
     "exception": false,
     "start_time": "2022-10-14T07:53:04.003338",
     "status": "completed"
    },
    "tags": []
   },
   "source": [
    "# (Optional) More practice\n",
    "\n",
    "Try finding a new dataset and pretend you're preparing to perform a [regression analysis](https://www.kaggle.com/rtatman/the-5-day-regression-challenge). \n",
    "\n",
    "[These datasets are a good start!](https://www.kaggle.com/rtatman/datasets-for-regression-analysis)\n",
    "\n",
    "Pick three or four variables and decide if you need to normalize or scale any of them and, if you think you should, practice applying the correct technique.\n",
    "\n",
    "# Keep going\n",
    "\n",
    "In the next lesson, learn how to [**parse dates**](https://www.kaggle.com/alexisbcook/parsing-dates) in a dataset."
   ]
  },
  {
   "cell_type": "markdown",
   "id": "b958fdbf",
   "metadata": {
    "papermill": {
     "duration": 0.006046,
     "end_time": "2022-10-14T07:53:04.021733",
     "exception": false,
     "start_time": "2022-10-14T07:53:04.015687",
     "status": "completed"
    },
    "tags": []
   },
   "source": [
    "---\n",
    "\n",
    "\n",
    "\n",
    "\n",
    "*Have questions or comments? Visit the [course discussion forum](https://www.kaggle.com/learn/data-cleaning/discussion) to chat with other learners.*"
   ]
  }
 ],
 "metadata": {
  "kernelspec": {
   "display_name": "Python 3",
   "language": "python",
   "name": "python3"
  },
  "language_info": {
   "codemirror_mode": {
    "name": "ipython",
    "version": 3
   },
   "file_extension": ".py",
   "mimetype": "text/x-python",
   "name": "python",
   "nbconvert_exporter": "python",
   "pygments_lexer": "ipython3",
   "version": "3.7.12"
  },
  "papermill": {
   "default_parameters": {},
   "duration": 18.362957,
   "end_time": "2022-10-14T07:53:04.849030",
   "environment_variables": {},
   "exception": null,
   "input_path": "__notebook__.ipynb",
   "output_path": "__notebook__.ipynb",
   "parameters": {},
   "start_time": "2022-10-14T07:52:46.486073",
   "version": "2.3.4"
  }
 },
 "nbformat": 4,
 "nbformat_minor": 5
}
